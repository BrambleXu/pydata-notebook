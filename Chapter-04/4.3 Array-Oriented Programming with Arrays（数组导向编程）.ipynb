{
 "cells": [
  {
   "cell_type": "markdown",
   "metadata": {},
   "source": [
    "向量化的数组运算比纯python同等程度的运算要快很多。\n",
    "\n",
    "一个简单的例子，假设我们想要评价函数`sqrt(x^2 + y^2)`。`np.meshgrid`函数取两个1维的数组，产生一个2维的矩阵，对应于所有两个数组中(x, y)的组合："
   ]
  },
  {
   "cell_type": "code",
   "execution_count": 7,
   "metadata": {
    "collapsed": false
   },
   "outputs": [],
   "source": [
    "import numpy as np"
   ]
  },
  {
   "cell_type": "markdown",
   "metadata": {},
   "source": [
    "在进行书中的内容之前，先举个例子说明meshgrid的效果。meshgrid函数用两个坐标轴上的点在平面上画网格。用法：\n",
    "\n",
    "- `[X,Y]=meshgrid(x,y)`\n",
    "\n",
    "- `[X,Y]=meshgrid(x)`与`[X,Y]=meshgrid(x,x)`是等同的\n",
    "\n",
    "- `[X,Y,Z]=meshgrid(x,y,z)`生成三维数组，可用来计算三变量的函数和绘制三维立体图\n",
    "\n",
    "这里，主要以`[X,Y]=meshgrid(x,y)`为例，来对该函数进行介绍。\n",
    "\n",
    "`[X,Y] = meshgrid(x,y)` 将向量x和y定义的区域转换成矩阵X和Y,其中矩阵X的行向量是向量x的简单复制，而矩阵Y的列向量是向量y的简单复制(注：下面代码中X和Y均是数组，在文中统一称为矩阵了)。\n",
    "\n",
    "假设x是长度为m的向量，y是长度为n的向量，则最终生成的矩阵X和Y的维度都是 nm （注意不是mn）。"
   ]
  },
  {
   "cell_type": "code",
   "execution_count": 18,
   "metadata": {
    "collapsed": false
   },
   "outputs": [
    {
     "data": {
      "text/plain": [
       "array([ 0.  ,  0.25,  0.5 ,  0.75,  1.  ])"
      ]
     },
     "execution_count": 18,
     "metadata": {},
     "output_type": "execute_result"
    }
   ],
   "source": [
    "m, n = (5, 3)\n",
    "x = np.linspace(0, 1, m)\n",
    "y = np.linspace(0, 1, n)\n",
    "X, Y = np.meshgrid(x, y)\n",
    "x"
   ]
  },
  {
   "cell_type": "code",
   "execution_count": 19,
   "metadata": {
    "collapsed": false
   },
   "outputs": [
    {
     "data": {
      "text/plain": [
       "array([ 0. ,  0.5,  1. ])"
      ]
     },
     "execution_count": 19,
     "metadata": {},
     "output_type": "execute_result"
    }
   ],
   "source": [
    "y"
   ]
  },
  {
   "cell_type": "code",
   "execution_count": 20,
   "metadata": {
    "collapsed": false
   },
   "outputs": [
    {
     "data": {
      "text/plain": [
       "array([[ 0.  ,  0.25,  0.5 ,  0.75,  1.  ],\n",
       "       [ 0.  ,  0.25,  0.5 ,  0.75,  1.  ],\n",
       "       [ 0.  ,  0.25,  0.5 ,  0.75,  1.  ]])"
      ]
     },
     "execution_count": 20,
     "metadata": {},
     "output_type": "execute_result"
    }
   ],
   "source": [
    "X"
   ]
  },
  {
   "cell_type": "code",
   "execution_count": 21,
   "metadata": {
    "collapsed": false
   },
   "outputs": [
    {
     "data": {
      "text/plain": [
       "array([[ 0. ,  0. ,  0. ,  0. ,  0. ],\n",
       "       [ 0.5,  0.5,  0.5,  0.5,  0.5],\n",
       "       [ 1. ,  1. ,  1. ,  1. ,  1. ]])"
      ]
     },
     "execution_count": 21,
     "metadata": {},
     "output_type": "execute_result"
    }
   ],
   "source": [
    "Y"
   ]
  },
  {
   "cell_type": "markdown",
   "metadata": {},
   "source": [
    "可以看到X和Y的shape都是3x5，用图的话更好理解：\n",
    "\n",
    "[](../MarkdownPhotos/chp04/v2-a7f1c996c371d1167a0fb7b5273c6d01_r.jpg)\n",
    "\n",
    "![](http://oydgk2hgw.bkt.clouddn.com/pydata-book/jaa76.jpg)\n",
    "\n",
    "\n",
    "把X和Y画出来后，就可以看到网格了：\n",
    "\n"
   ]
  },
  {
   "cell_type": "code",
   "execution_count": 23,
   "metadata": {
    "collapsed": false
   },
   "outputs": [
    {
     "data": {
      "text/plain": [
       "[<matplotlib.lines.Line2D at 0x107cddd30>,\n",
       " <matplotlib.lines.Line2D at 0x107cddeb8>,\n",
       " <matplotlib.lines.Line2D at 0x107ce5198>,\n",
       " <matplotlib.lines.Line2D at 0x107ce5358>,\n",
       " <matplotlib.lines.Line2D at 0x107ce5518>]"
      ]
     },
     "execution_count": 23,
     "metadata": {},
     "output_type": "execute_result"
    },
    {
     "data": {
      "image/png": "iVBORw0KGgoAAAANSUhEUgAAAhEAAAFqCAYAAACkkwiNAAAABHNCSVQICAgIfAhkiAAAAAlwSFlz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\nAABg5P8AUGes10LjfHEAAAAASUVORK5CYII=\n",
      "text/plain": [
       "<matplotlib.figure.Figure at 0x107952a58>"
      ]
     },
     "metadata": {},
     "output_type": "display_data"
    }
   ],
   "source": [
    "import matplotlib.pyplot as plt\n",
    "%matplotlib inline\n",
    "plt.style.use('ggplot')\n",
    "\n",
    "plt.plot(X, Y, marker='.', color='blue', linestyle='none')"
   ]
  },
  {
   "cell_type": "markdown",
   "metadata": {},
   "source": [
    "可以用zip得到网格平面上坐标点的数据："
   ]
  },
  {
   "cell_type": "code",
   "execution_count": 24,
   "metadata": {
    "collapsed": false
   },
   "outputs": [
    {
     "data": {
      "text/plain": [
       "[(0.0, 0.0),\n",
       " (0.25, 0.0),\n",
       " (0.5, 0.0),\n",
       " (0.75, 0.0),\n",
       " (1.0, 0.0),\n",
       " (0.0, 0.5),\n",
       " (0.25, 0.5),\n",
       " (0.5, 0.5),\n",
       " (0.75, 0.5),\n",
       " (1.0, 0.5),\n",
       " (0.0, 1.0),\n",
       " (0.25, 1.0),\n",
       " (0.5, 1.0),\n",
       " (0.75, 1.0),\n",
       " (1.0, 1.0)]"
      ]
     },
     "execution_count": 24,
     "metadata": {},
     "output_type": "execute_result"
    }
   ],
   "source": [
    "z = [i for i in zip(X.flat, Y.flat)]\n",
    "z"
   ]
  },
  {
   "cell_type": "markdown",
   "metadata": {},
   "source": [
    "好了，下面继续进入书中的内容"
   ]
  },
  {
   "cell_type": "code",
   "execution_count": 3,
   "metadata": {
    "collapsed": false
   },
   "outputs": [
    {
     "data": {
      "text/plain": [
       "array([[-5.  , -5.  , -5.  , ..., -5.  , -5.  , -5.  ],\n",
       "       [-4.99, -4.99, -4.99, ..., -4.99, -4.99, -4.99],\n",
       "       [-4.98, -4.98, -4.98, ..., -4.98, -4.98, -4.98],\n",
       "       ..., \n",
       "       [ 4.97,  4.97,  4.97, ...,  4.97,  4.97,  4.97],\n",
       "       [ 4.98,  4.98,  4.98, ...,  4.98,  4.98,  4.98],\n",
       "       [ 4.99,  4.99,  4.99, ...,  4.99,  4.99,  4.99]])"
      ]
     },
     "execution_count": 3,
     "metadata": {},
     "output_type": "execute_result"
    }
   ],
   "source": [
    "points = np.arange(-5, 5, 0.01) # 1000 equally spaced points\n",
    "xs, ys = np.meshgrid(points, points) # xs和ys是一样的\n",
    "ys"
   ]
  },
  {
   "cell_type": "code",
   "execution_count": 25,
   "metadata": {
    "collapsed": false
   },
   "outputs": [
    {
     "data": {
      "text/plain": [
       "array([[ 7.07106781,  7.06400028,  7.05693985, ...,  7.04988652,\n",
       "         7.05693985,  7.06400028],\n",
       "       [ 7.06400028,  7.05692568,  7.04985815, ...,  7.04279774,\n",
       "         7.04985815,  7.05692568],\n",
       "       [ 7.05693985,  7.04985815,  7.04278354, ...,  7.03571603,\n",
       "         7.04278354,  7.04985815],\n",
       "       ..., \n",
       "       [ 7.04988652,  7.04279774,  7.03571603, ...,  7.0286414 ,\n",
       "         7.03571603,  7.04279774],\n",
       "       [ 7.05693985,  7.04985815,  7.04278354, ...,  7.03571603,\n",
       "         7.04278354,  7.04985815],\n",
       "       [ 7.06400028,  7.05692568,  7.04985815, ...,  7.04279774,\n",
       "         7.04985815,  7.05692568]])"
      ]
     },
     "execution_count": 25,
     "metadata": {},
     "output_type": "execute_result"
    }
   ],
   "source": [
    "z = np.sqrt(xs ** 2 + ys ** 2)\n",
    "z"
   ]
  },
  {
   "cell_type": "markdown",
   "metadata": {},
   "source": [
    "这里我们用matplotlib把图画出来："
   ]
  },
  {
   "cell_type": "code",
   "execution_count": 27,
   "metadata": {
    "collapsed": false
   },
   "outputs": [
    {
     "data": {
      "text/plain": [
       "<matplotlib.text.Text at 0x10dca7c18>"
      ]
     },
     "execution_count": 27,
     "metadata": {},
     "output_type": "execute_result"
    },
    {
     "data": {
      "image/png": "iVBORw0KGgoAAAANSUhEUgAAAcgAAAGECAYAAACyO7D9AAAABHNCSVQICAgIfAhkiAAAAAlwSFlz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
